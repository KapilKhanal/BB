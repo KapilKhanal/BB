{
 "cells": [
  {
   "cell_type": "markdown",
   "metadata": {},
   "source": [
    "## Test cases for potential problems (2D)"
   ]
  },
  {
   "cell_type": "markdown",
   "metadata": {},
   "source": [
    "### Potential problems"
   ]
  },
  {
   "cell_type": "markdown",
   "metadata": {},
   "source": [
    "Let an uniform closed domain $\\Omega$ bounded by $S=\\partial \\Omega$ be a square of side $L$ with its lower left corner at the origin of the coordinate system $[x,y]$. This domain is a perfect heat conductor with an uniform constant heat conductivity $k$ $[W/(m K)]$. The heat conduction is described by the Laplace equation.\n",
    "\n",
    "The Laplace equation, also known as the potential equation, is an elliptic partial differential equation written as\n",
    "\n",
    "\\begin{equation}\n",
    "    \\nabla^2 T = 0\n",
    "\\end{equation}\n",
    "where $\\nabla^2 = \\partial^2 / \\partial x^2 + \\partial^2 / \\partial y^2 + \\partial^2 / \\partial z^2 $ is the Laplace operator and $T$ is the temperature, for potential flows, it is the velocity potential."
   ]
  },
  {
   "cell_type": "markdown",
   "metadata": {},
   "source": [
    "Consider a square plate of size $L$ \\[m\\] with an uniform heat conductivity $k$ \\[W/m.K\\] subjected at opposite faces to a temperature of 1 K and 0 K. There is no heat transfer to the two other opposing faces ($\\frac{\\partial T}{\\partial y} = 0 $). This means that the temperature gradient will be described only in the x direction ($\\frac{\\partial T}{\\partial x} = \\frac{d T}{d x}$ are interchangeable). Since the heat transfer is only going to occur in one direction, it's reasonable to approximate the Laplace equation to its one-dimensional form \n",
    "\n",
    "\\begin{equation}\n",
    "\\frac{d^2 T}{d x^2} = 0.\n",
    "\\end{equation}\n",
    "\n",
    "Integrating one time, one obtains\n",
    "\n",
    "\\begin{equation}\n",
    "\\int_{x=0}^{x=L} \\frac{d^2 T}{d x^2} dx =\\frac{d T}{d x} = -C_1,\n",
    "\\end{equation}\n",
    "which describes a temperature distribution with a constant gradient.\n",
    "\n",
    "\n",
    "A second integration gives\n",
    "\n",
    "\\begin{equation}\n",
    "\\int_{x=0}^{x=L} \\left(\\frac{d T}{d x} + C_1 \\right) dx = -C_2,\n",
    "\\end{equation}\n",
    "\n",
    "\n",
    "\\begin{equation}\n",
    "T(x) + C_1 x + C_2 = 0.\n",
    "\\end{equation}\n",
    "\n",
    "This is a linear solution for the temperature distribution, which is reasonable for its heat conduction.\n",
    "\n",
    "The boundary condition at $x = 0$ is $T(0) = 1$ and at $x=L$ is $T(L) =0$.\n",
    "\n",
    "\\begin{equation}\n",
    "T(0) + C_1 0 + C_2 = 0,\n",
    "\\end{equation}\n",
    "\\begin{equation}\n",
    "1 + C_2 = 0,\n",
    "\\end{equation}\n",
    "therefore, $C_2 = -1$.\n",
    "\n",
    "\\begin{equation}\n",
    "T(L) + C_1 L +C_2 = 0,\n",
    "\\end{equation}\n",
    "\\begin{equation}\n",
    "0 + C_1 L -1 = 0,\n",
    "\\end{equation}\n",
    "\\begin{equation}\n",
    "C_1 = \\frac{1}{L}.\n",
    "\\end{equation}\n",
    "\n",
    "So, the solution of the problem is described by the equation\n",
    "\n",
    "\\begin{equation}\n",
    "T(x) = 1 - \\frac{x}{L}.\n",
    "\\end{equation}\n",
    "\n",
    "To verify that this equation indeed solves the Laplace, its derivatives with relationship to $x$ is\n",
    "\n",
    "\\begin{equation}\n",
    "\\frac{d T(x)}{d x} = - \\frac{1}{L}\n",
    "\\end{equation}\n",
    "and\n",
    "\\begin{equation}\n",
    "\\frac{d^2 T(x)}{d x^2} = 0\n",
    "\\end{equation}\n",
    "which is the unidimensional Laplace equation.\n"
   ]
  },
  {
   "cell_type": "code",
   "execution_count": 2,
   "metadata": {},
   "outputs": [],
   "source": [
    "# The analytical solution is very simply\n",
    "T_an(x) = 1-x\\L;\n",
    "q_an(x) = -1\\L;"
   ]
  },
  {
   "cell_type": "markdown",
   "metadata": {},
   "source": [
    "----------------------------------------\n",
    "#### Boundary element method formulation\n",
    "\n",
    "The boundary element method (BEM) is obtained by solving a boundary integral equation (BIE)\n",
    "\n",
    "\\begin{equation}\n",
    "    c(x') T(x') \\int_S T(x) q^* (x,x') dS =  \\int_S q(x) T^* (x,x') dS \n",
    "\\end{equation}\n",
    "where $x$ is called a 'field-point' and $x'$ is the 'source-point'. Collocation is a technique in which source-points are used as physical entities of the system while applying the boundary condition. Field-points are used thought of as being located on the boundary of the domain, while \n",
    "If the geometry is approximated by some arbitrary shape function $N(\\xi)$ in parametric space $[-1<\\xi<1]$, described by control points $P$,\n",
    "\n",
    "\\begin{equation}\n",
    "    c(x') T(x') \\int_{-1}^{1} \\mathbf{T} \\mathbf{N}(\\xi) \\mathbf{P} q^* (x', \\xi)  \\frac{dS}{d \\xi} d \\xi =  \\int_{-1}^{1} \\mathbf{q} \\mathbf{N}(\\xi) \\mathbf{P} T^* (x', \\xi)  \\frac{dS}{d \\xi} d \\xi.\n",
    "\\end{equation}\n",
    "\n",
    "The term $\\frac{dS}{d \\xi}$ is called the Jacobian of the transformation of the boundary from geometrical space to parametric space. It's related to the shape functions $N(\\xi)$.\n",
    "\n",
    "It's important to note that, even though the geometry is described by the points $P$, there are cases in which they do not reside either on the boundary or domain of the problem. \n",
    "\n",
    "This points, however, do not change over the boundary and can be written out of the equation. The same is true for the value of the variables $T$ and $q$ at the collocation points.\n",
    "\n",
    "\\begin{equation}\n",
    "    c(x') T(x') \\int_{-1}^{1} N(\\xi) q^* (x', \\xi)  \\frac{dS}{d \\xi} d \\xi TP =  \\int_{-1}^{1} N(\\xi) T^* (x', \\xi)  \\frac{dS}{d \\xi} d \\xi qP.\n",
    "\\end{equation}\n",
    "\n",
    "If the points reside on the boundary of the problem, at the center of a linear interpolation between each consecutive point, the element is called linear."
   ]
  },
  {
   "cell_type": "code",
   "execution_count": 3,
   "metadata": {
    "scrolled": true
   },
   "outputs": [],
   "source": [
    "# First, include the module const2D\n",
    "include(\"../src/const2D/const2D.jl\")\n",
    "using const2D"
   ]
  },
  {
   "cell_type": "code",
   "execution_count": 29,
   "metadata": {},
   "outputs": [],
   "source": [
    "# Define the geometry\n",
    "L = 1; # length of the square\n",
    "k = 1; # heat conductivity of the material\n",
    "fc = [0]; # no concentrated heat sources \n",
    "ne = 100; # number of elements/line segment\n",
    "POINTS = [1 0 0\n",
    "\t  2 L 0\n",
    "\t  3 L L\n",
    "\t  4 0 L];\n",
    "SEGMENTS = [1 1 2 0\n",
    "\t     2 2 3 0\n",
    "\t     3 3 4 0\n",
    "\t     4 4 1 0];\n",
    "MESH = [1 ne\n",
    "\t 2 ne\n",
    "\t 3 ne\n",
    "\t 4 ne];\n",
    "# BCSeg =[NE BT V] are the boundary conditions at each segment.          |                                                                                                                                      |                                                                           \n",
    "#NE: element number                                                      |                                                                           \n",
    "#BT: boundary condition type                                             |                                                                           \n",
    "# BT = 0 if the temperature is known                                     |                                                                           \n",
    "# BT = 1 if the temperature gradient is known                            |                                                                           \n",
    "#V: value of boundary variable                                           |                                                                           \n",
    "BCSeg = [1 1 0\n",
    "\t 2 0 0\n",
    "\t 3 1 0\n",
    "\t 4 0 1];\n",
    "NPX = 10; # number of domain points on x and y directions\n",
    "NPY = 10;\n",
    "PONTOS_DOM=const2D.gera_p_in(NPX,NPY,POINTS,SEGMENTS); # generate domain points\n",
    "n_pdom = size(PONTOS_DOM,1);\n",
    "PONTOS_dom = zeros(n_pdom,3);\n",
    "PONTOS_dom[:,2:3] = PONTOS_DOM[:,:];\n",
    "for i = 1:n_pdom\n",
    "    PONTOS_dom[i,1] = i;\n",
    "end"
   ]
  },
  {
   "cell_type": "code",
   "execution_count": 30,
   "metadata": {},
   "outputs": [],
   "source": [
    "# Format and solve the problem\n",
    "NOS_GEO,NOS,ELEM,CDC,normal = const2D.format_dad(POINTS,SEGMENTS,MESH,BCSeg) # Apply the discretization technique and builds the problems matrices for the geometrical points, physical nodes, elements' connectivity and boundary conditions\n",
    "nnos = size(NOS,1)  # Number of physical nodes, same as elements when using constant elements\n",
    "npg=36; # Number of integration points\n",
    "qsi,w = const2D.Gauss_Legendre(-1,1,npg) # Generation of the points and weights\n",
    "G,H=const2D.cal_GeHpot(NOS,NOS_GEO,ELEM,k,fc,qsi,w);\n",
    "A,b = const2D.aplica_CDC(G,H,CDC);\n",
    "x = A\\b # Solves the linear system\n",
    "T,q = const2D.monta_phieq(CDC,x) # Applies the boundary conditions to return the velocity potential and flux\n",
    "T_dom,qx_dom,qy_dom = const2D.domain_field(PONTOS_dom[:,2:3]',NOS_GEO[:,2:3]',T,q,ELEM[:,2:3]',normal,k); # Evaluates the value at domain points"
   ]
  },
  {
   "cell_type": "code",
   "execution_count": 31,
   "metadata": {
    "scrolled": false
   },
   "outputs": [
    {
     "data": {
      "image/png": "[encoded data removed]",
      "text/plain": [
       "PyPlot.Figure(PyObject <Figure size 640x480 with 1 Axes>)"
      ]
     },
     "metadata": {},
     "output_type": "display_data"
    },
    {
     "data": {
      "image/png": "[encoded data removed]",
      "text/plain": [
       "PyPlot.Figure(PyObject <Figure size 640x480 with 2 Axes>)"
      ]
     },
     "metadata": {},
     "output_type": "display_data"
    }
   ],
   "source": [
    "## Now, let's visualize the results\n",
    "tipoCDC = zeros(Bool,size(CDC,1));\n",
    "tipoCDC[:] = CDC[:,2];\n",
    "valorCDC = CDC[:,3];\n",
    "const2D.mostra_problema(ELEM[:,2:3],NOS_GEO[:,2:3],NOS[:,2:3],tipoCDC,valorCDC,normal,T,q);\n",
    "const2D.mostra_heatmap(NOS[:,2:3],PONTOS_dom[:,2:3],real.(T),real.(T_dom),NOS_GEO[:,2:3],ELEM[:,2:3],qx_dom,qy_dom);"
   ]
  },
  {
   "cell_type": "markdown",
   "metadata": {},
   "source": [
    "The temperature obtained using the BEM is shown as is the position of the physical point, from which the analytical solution becomes obvious."
   ]
  },
  {
   "cell_type": "code",
   "execution_count": 32,
   "metadata": {},
   "outputs": [
    {
     "data": {
      "text/plain": [
       "101×4 Array{Float64,2}:\n",
       " 0.995291    0.005  1.00029   0.0290929 \n",
       " 0.985191    0.015  1.00019   0.0191174 \n",
       " 0.975145    0.025  1.00015   0.0145306 \n",
       " 0.965119    0.035  1.00012   0.0119084 \n",
       " 0.955102    0.045  1.0001    0.0101841 \n",
       " 0.945089    0.055  1.00009   0.00894612\n",
       " 0.93508     0.065  1.00008   0.00800316\n",
       " 0.925073    0.075  1.00007   0.00725393\n",
       " 0.915066    0.085  1.00007   0.00663948\n",
       " 0.905061    0.095  1.00006   0.00612296\n",
       " 0.895057    0.105  1.00006   0.00568012\n",
       " 0.885053    0.115  1.00005   0.00529423\n",
       " 0.87505     0.125  1.00005   0.00495339\n",
       " ⋮                                      \n",
       " 0.104943    0.895  0.999943  0.00568012\n",
       " 0.0949388   0.905  0.999939  0.00612296\n",
       " 0.0849336   0.915  0.999934  0.00663948\n",
       " 0.0749275   0.925  0.999927  0.00725393\n",
       " 0.06492     0.935  0.99992   0.00800316\n",
       " 0.0549105   0.945  0.999911  0.00894612\n",
       " 0.0448982   0.955  0.999898  0.0101841 \n",
       " 0.0348809   0.965  0.999881  0.0119084 \n",
       " 0.0248547   0.975  0.999855  0.0145306 \n",
       " 0.0148088   0.985  0.999809  0.0191174 \n",
       " 0.00470907  0.995  0.999709  0.0290929 \n",
       " 0.0         1.0    1.0       0.0       "
      ]
     },
     "execution_count": 32,
     "metadata": {},
     "output_type": "execute_result"
    }
   ],
   "source": [
    "i=1; f = i+ne;\n",
    "println(\"Temp --- x coord --- T+x --- (T+x-1)*100\")\n",
    "[abs.(T[i:f,:]) abs.(NOS[i:f,2]) abs.(T[i:f,:]+NOS[i:f,2]) abs.((T[i:f,:]+NOS[i:f,2]-1)*100)]"
   ]
  },
  {
   "cell_type": "code",
   "execution_count": 33,
   "metadata": {},
   "outputs": [
    {
     "data": {
      "text/plain": [
       "400-element Array{Complex{Float64},1}:\n",
       "  1.00006+0.0im\n",
       " 0.989718+0.0im\n",
       " 0.978821+0.0im\n",
       " 0.967946+0.0im\n",
       " 0.957189+0.0im\n",
       " 0.946578+0.0im\n",
       " 0.936128+0.0im\n",
       " 0.925851+0.0im\n",
       "  0.91576+0.0im\n",
       " 0.905861+0.0im\n",
       " 0.896163+0.0im\n",
       " 0.886673+0.0im\n",
       " 0.877394+0.0im\n",
       "         ⋮     \n",
       "      1.0+0.0im\n",
       "      1.0+0.0im\n",
       "      1.0+0.0im\n",
       "      1.0+0.0im\n",
       "      1.0+0.0im\n",
       "      1.0+0.0im\n",
       "      1.0+0.0im\n",
       "      1.0+0.0im\n",
       "      1.0+0.0im\n",
       "      1.0+0.0im\n",
       "      1.0+0.0im\n",
       "      1.0+0.0im"
      ]
     },
     "execution_count": 33,
     "metadata": {},
     "output_type": "execute_result"
    },
    {
     "name": "stdout",
     "output_type": "stream",
     "text": [
      "Temp --- x coord --- T+x --- (T+x-1)*100\n"
     ]
    },
    {
     "name": "stderr",
     "output_type": "stream",
     "text": [
      "WARNING: replacing module const2D\n"
     ]
    }
   ],
   "source": [
    "# Solve using H-Matrices with Lagrange polynomial approximation\n",
    "include(\"../src/const2D/const2D.jl\")\n",
    "using const2D\n",
    "hT,hqx,hqy,hTi = const2D.solvepotH([NOS_GEO,NOS,ELEM,CDC], PONTOS_dom, fc, BCSeg, k);\n",
    "hT"
   ]
  },
  {
   "cell_type": "markdown",
   "metadata": {},
   "source": [
    "Now that the two solvers were tested, a speed and accuracy analysis will be carried out."
   ]
  },
  {
   "cell_type": "code",
   "execution_count": 44,
   "metadata": {},
   "outputs": [],
   "source": [
    "ne_min = 20; ne_max = 100; steps = 100; ne = linspace(ne_min,ne_max,steps);\n",
    "error = zeros(steps)\n",
    "for i = 1:steps\n",
    "    MESH = [1 round(Int,ne[i])\n",
    "        2 round(Int,ne[i])\n",
    "        3 round(Int,ne[i])\n",
    "        4 round(Int,ne[i])];\n",
    "    T,qx,qy,Ti = const2D.solvepot([NOS_GEO,NOS,ELEM,CDC],PONTOS_dom,fc,BCSeg,k)\n",
    "    hT,hqx,hqy,hTi = const2D.solvepotH([NOS_GEO,NOS,ELEM,CDC], PONTOS_dom, fc, BCSeg, k); \n",
    "    error[i] = sqrt(sum(abs.(T.*T-hT.*hT)))\n",
    "end"
   ]
  },
  {
   "cell_type": "code",
   "execution_count": 45,
   "metadata": {},
   "outputs": [
    {
     "data": {
      "text/plain": [
       "100-element Array{Float64,1}:\n",
       " 6.47937\n",
       " 6.47937\n",
       " 6.47937\n",
       " 6.47937\n",
       " 6.47937\n",
       " 6.47937\n",
       " 6.47937\n",
       " 6.47937\n",
       " 6.47937\n",
       " 6.47937\n",
       " 6.47937\n",
       " 6.47937\n",
       " 6.47937\n",
       " ⋮      \n",
       " 6.47937\n",
       " 6.47937\n",
       " 6.47937\n",
       " 6.47937\n",
       " 6.47937\n",
       " 6.47937\n",
       " 6.47937\n",
       " 6.47937\n",
       " 6.47937\n",
       " 6.47937\n",
       " 6.47937\n",
       " 6.47937"
      ]
     },
     "execution_count": 45,
     "metadata": {},
     "output_type": "execute_result"
    }
   ],
   "source": [
    "error"
   ]
  },
  {
   "cell_type": "code",
   "execution_count": null,
   "metadata": {},
   "outputs": [],
   "source": []
  },
  {
   "cell_type": "markdown",
   "metadata": {},
   "source": [
    "### Linear discontinuous elements"
   ]
  },
  {
   "cell_type": "markdown",
   "metadata": {},
   "source": [
    "Another commonly used element is the linear discontinuous element, which will be called hereforth 'desclin'. "
   ]
  },
  {
   "cell_type": "code",
   "execution_count": 13,
   "metadata": {},
   "outputs": [
    {
     "data": {
      "text/plain": [
       "desclin2D"
      ]
     },
     "execution_count": 13,
     "metadata": {},
     "output_type": "execute_result"
    },
    {
     "name": "stderr",
     "output_type": "stream",
     "text": [
      "WARNING: replacing module desclin2D\n"
     ]
    }
   ],
   "source": [
    "include(\"../src/desclin2D/desclin2D.jl\")"
   ]
  },
  {
   "cell_type": "code",
   "execution_count": 14,
   "metadata": {},
   "outputs": [
    {
     "ename": "LoadError",
     "evalue": "\u001b[91mBoundsError: attempt to access 80×3 Array{Float64,2} at index [1, 5]\u001b[39m",
     "output_type": "error",
     "traceback": [
      "\u001b[91mBoundsError: attempt to access 80×3 Array{Float64,2} at index [1, 5]\u001b[39m",
      "",
      "Stacktrace:",
      " [1] \u001b[1maplica_CDC\u001b[22m\u001b[22m\u001b[1m(\u001b[22m\u001b[22m::Array{Complex{Float64},2}, ::Array{Complex{Float64},2}, ::Array{Float64,2}\u001b[1m)\u001b[22m\u001b[22m at \u001b[1m/home/cafe/BEM_base/src/desclin2D/aplica_CDC.jl:10\u001b[22m\u001b[22m",
      " [2] \u001b[1msolve\u001b[22m\u001b[22m\u001b[1m(\u001b[22m\u001b[22m::Array{Array{Float64,2},1}, ::Array{Float64,2}, ::Array{Int64,1}, ::Array{Int64,2}, ::Int64\u001b[1m)\u001b[22m\u001b[22m at \u001b[1m/home/cafe/BEM_base/src/desclin2D/desclin2D.jl:46\u001b[22m\u001b[22m"
     ]
    },
    {
     "name": "stdout",
     "output_type": "stream",
     "text": [
      "Building A and b matrices using the traditional colocation BEM for constant elements.\n",
      "Evaluating matrices H, G and array q\n"
     ]
    }
   ],
   "source": [
    "T,q = desclin2D.solve([NOS_GEO,NOS,ELEM,CDC],PONTOS_dom,fc,BCSeg,k)"
   ]
  },
  {
   "cell_type": "code",
   "execution_count": 11,
   "metadata": {},
   "outputs": [
    {
     "data": {
      "text/plain": [
       "Array{Int64,2}"
      ]
     },
     "execution_count": 11,
     "metadata": {},
     "output_type": "execute_result"
    }
   ],
   "source": [
    "typeof(ELEM)"
   ]
  },
  {
   "cell_type": "code",
   "execution_count": null,
   "metadata": {},
   "outputs": [],
   "source": []
  },
  {
   "cell_type": "code",
   "execution_count": null,
   "metadata": {},
   "outputs": [],
   "source": []
  },
  {
   "cell_type": "code",
   "execution_count": null,
   "metadata": {},
   "outputs": [],
   "source": []
  },
  {
   "cell_type": "markdown",
   "metadata": {},
   "source": [
    "### Quadratic discontinuous elements"
   ]
  },
  {
   "cell_type": "markdown",
   "metadata": {},
   "source": [
    "### NURBS elements"
   ]
  },
  {
   "cell_type": "code",
   "execution_count": 10,
   "metadata": {},
   "outputs": [
    {
     "name": "stderr",
     "output_type": "stream",
     "text": [
      "WARNING: replacing module nurbs2D\n"
     ]
    }
   ],
   "source": [
    "# First, include the module const2D\n",
    "include(\"../src/nurbs2D/nurbs2D.jl\")\n",
    "using nurbs2D"
   ]
  },
  {
   "cell_type": "code",
   "execution_count": 13,
   "metadata": {
    "scrolled": false
   },
   "outputs": [
    {
     "ename": "LoadError",
     "evalue": "\u001b[91mMethodError: no method matching start(::nurbs2D.Curve)\u001b[0m\nClosest candidates are:\n  start(\u001b[91m::SimpleVector\u001b[39m) at essentials.jl:258\n  start(\u001b[91m::Base.MethodList\u001b[39m) at reflection.jl:560\n  start(\u001b[91m::ExponentialBackOff\u001b[39m) at error.jl:107\n  ...\u001b[39m",
     "output_type": "error",
     "traceback": [
      "\u001b[91mMethodError: no method matching start(::nurbs2D.Curve)\u001b[0m\nClosest candidates are:\n  start(\u001b[91m::SimpleVector\u001b[39m) at essentials.jl:258\n  start(\u001b[91m::Base.MethodList\u001b[39m) at reflection.jl:560\n  start(\u001b[91m::ExponentialBackOff\u001b[39m) at error.jl:107\n  ...\u001b[39m",
      "",
      "Stacktrace:",
      " [1] \u001b[1mcollect\u001b[22m\u001b[22m\u001b[1m(\u001b[22m\u001b[22m::Base.Generator{nurbs2D.Curve,##5#6}\u001b[1m)\u001b[22m\u001b[22m at \u001b[1m./array.jl:466\u001b[22m\u001b[22m",
      " [2] \u001b[1mmap\u001b[22m\u001b[22m\u001b[1m(\u001b[22m\u001b[22m::Function, ::nurbs2D.Curve\u001b[1m)\u001b[22m\u001b[22m at \u001b[1m./abstractarray.jl:1892\u001b[22m\u001b[22m"
     ]
    }
   ],
   "source": [
    "# Characteristics of the problem: Square domain with imposed temperature in two opposite faces and imposed null temperature flux at the other two faces. \n",
    "L=1;\n",
    "PONTOS = [1 0 0\n",
    "\t  2 L 0\n",
    "\t  3 L L\n",
    "\t  4 0 L];\n",
    "SEGMENTOS = [1 1 2 0\n",
    "\t     2 2 3 0\n",
    "\t     3 3 4 0\n",
    "\t     4 4 1 0];\n",
    "ne = 4;\n",
    "MALHA = [1 ne\n",
    "\t 2 ne\n",
    "\t 3 ne\n",
    "\t 4 ne];\n",
    "CCSeg = [1 1 0\n",
    "\t 2 0 1\n",
    "\t 3 1 0\n",
    "\t 4 0 0];\n",
    "crv,contorno = nurbs2D.format_dad_iso(PONTOS,SEGMENTOS,MALHA)\n",
    "dcrv=map(x->nurbs2D.nrbderiv(x),crv)\n",
    "n = length(crv);\t# N�mero total de elementos\n",
    "  p=1;#refinamento p\n",
    "  for i=1:n\n",
    "      degree=crv[i].order-1\n",
    "      #\tprintln(crv[i].knots)\n",
    "      #\tprintln(crv[i].coefs)\n",
    "      coefs,knots = nurbs2D.bspdegelev(degree,crv[i].coefs,crv[i].knots,p)\n",
    "      #\tprintln(knots)\n",
    "      #\tprintln(coefs)\n",
    "      crv[i] = nurbs2D.nrbmak(coefs,knots)\n",
    "  end\n",
    "  h=10;#refinamento h\n",
    "  for i=1:n\n",
    "    novosnos=linspace(0,1,h+2)\n",
    "    degree=crv[i].order-1\n",
    "    coefs,knots = nurbs2D.bspkntins(degree,crv[i].coefs,crv[i].knots,novosnos[2:end-1])\n",
    "    crv[i] = nurbs2D.nrbmak(coefs,knots)\n",
    "  end\n",
    "z=0;\n",
    "for k=1:n\n",
    "\tfor i=1:crv[k].number\n",
    "\t\tz=z+1\n",
    "\tend\n",
    "end\n",
    "numcurva=zeros(Integer,z)\n",
    "collocPts=zeros(z)\n",
    "CDC=zeros(z,3)\n",
    "collocCoord=zeros(z,3)\n",
    "z=0;\n",
    "nnos=zeros(Integer,n)\n",
    "for k=1:n\n",
    "\tp=crv[k].order-1;\n",
    "\tnnos[k]=crv[k].number;\n",
    "\tvalorCDC=CCSeg[k,3];\n",
    "\ttipoCDC=CCSeg[k,2];\n",
    "\tfor i=1:crv[k].number\n",
    "\t\tz=z+1;\n",
    "\t\tnumcurva[z]=k;\n",
    "\t\tcollocPts[z]=sum(crv[k].knots[(i+1):(i+p)])/p;\n",
    "\t\tif(i==2)\n",
    "\t\t\tcollocPts[z-1]=(collocPts[z]+collocPts[z-1])/2;\n",
    "\t\tend\n",
    "\t\tif(i==nnos[k])\n",
    "\t\t\tcollocPts[z]=(collocPts[z]+collocPts[z-1])/2;\n",
    "\t\tend\n",
    "\n",
    "\t\tCDC[z,:] = [z,tipoCDC,valorCDC];\n",
    "\tend\n",
    "end\n",
    "nnos2=cumsum([0 nnos'],2);\n",
    "\n",
    "E=zeros(length(collocPts),length(collocPts));\n",
    "for i=1:length(collocPts)\n",
    "\tcollocCoord[i,:]=nurbs2D.nrbeval(crv[numcurva[i]], collocPts[i]);\n",
    "\tB, id = nurbs2D.nrbbasisfun(crv[numcurva[i]],collocPts[i])\n",
    "\tE[i,id+nnos2[numcurva[i]]]=B\n",
    "end\n",
    "k=1; # Heat conductivity"
   ]
  },
  {
   "cell_type": "code",
   "execution_count": 12,
   "metadata": {},
   "outputs": [
    {
     "ename": "LoadError",
     "evalue": "\u001b[91mUndefVarError: collocCoord not defined\u001b[39m",
     "output_type": "error",
     "traceback": [
      "\u001b[91mUndefVarError: collocCoord not defined\u001b[39m",
      ""
     ]
    }
   ],
   "source": [
    "#Building the problems matrices\n",
    "H, G = nurbs2D.calcula_iso_POT(collocCoord,nnos2,crv,dcrv,E,k) # Influence matrices\n",
    "A,b= nurbs2D.aplica_CDCiso(G,H,CDC,E);\t# Applying boundary conditions\n",
    "x=A\\b; # Evaluating unknown values\n",
    "Tc,qc=nurbs2D.monta_Teqiso(CDC,x); # Separating temperature from flux\n",
    "# Applying NURBS basis functions to the values of temperature and flux\n",
    "T=E*Tc;\n",
    "q=E*qc;\n",
    "\n",
    "# Domain points\n",
    "PONTOS_int = [1 0.5 0.5]\n",
    "fc = 0; finc = 0;\n",
    "Hp,Gp,phi_pint = nurbs2D.calc_phi_pint_nurbs_POT(PONTOS_int,collocCoord,nnos2,crv,dcrv,k,Tc,qc);"
   ]
  },
  {
   "cell_type": "code",
   "execution_count": 7,
   "metadata": {},
   "outputs": [
    {
     "ename": "LoadError",
     "evalue": "\u001b[91mMethodError: no method matching start(::nurbs2D.Curve)\u001b[0m\nClosest candidates are:\n  start(\u001b[91m::SimpleVector\u001b[39m) at essentials.jl:258\n  start(\u001b[91m::Base.MethodList\u001b[39m) at reflection.jl:560\n  start(\u001b[91m::ExponentialBackOff\u001b[39m) at error.jl:107\n  ...\u001b[39m",
     "output_type": "error",
     "traceback": [
      "\u001b[91mMethodError: no method matching start(::nurbs2D.Curve)\u001b[0m\nClosest candidates are:\n  start(\u001b[91m::SimpleVector\u001b[39m) at essentials.jl:258\n  start(\u001b[91m::Base.MethodList\u001b[39m) at reflection.jl:560\n  start(\u001b[91m::ExponentialBackOff\u001b[39m) at error.jl:107\n  ...\u001b[39m",
      "",
      "Stacktrace:",
      " [1] \u001b[1mmostra_geo\u001b[22m\u001b[22m\u001b[1m(\u001b[22m\u001b[22m::nurbs2D.Curve\u001b[1m)\u001b[22m\u001b[22m at \u001b[1m/home/cafe/BEM_base/src/nurbs2D/formatiso.jl:245\u001b[22m\u001b[22m"
     ]
    }
   ],
   "source": [
    "# Graphics\n",
    "nurbs2D.mostra_geo(crv)\n",
    "nurbs2D.PyPlot.plot(collocCoord[:,1],collocCoord[:,2],marker=\"s\",markersize=10,linestyle=\"none\",color=\"blue\",label = \"Physical points (Nodes)\")\n",
    "nurbs2D.PyPlot.axis(\"equal\")\n",
    "nurbs2D.PyPlot.grid(1)\n",
    "nurbs2D.PyPlot.xlabel(\"x\",fontsize=\"12.0\")\n",
    "nurbs2D.PyPlot.ylabel(\"y\",fontsize=\"12.0\")\n",
    "nurbs2D.PyPlot.title(\"NURBS model\",fontsize=\"16.0\")\n",
    "nurbs2D.PyPlot.legend(fontsize=\"14.0\",loc=\"best\")"
   ]
  },
  {
   "cell_type": "code",
   "execution_count": 8,
   "metadata": {},
   "outputs": [
    {
     "ename": "LoadError",
     "evalue": "\u001b[91mUndefVarError: collocCoord not defined\u001b[39m",
     "output_type": "error",
     "traceback": [
      "\u001b[91mUndefVarError: collocCoord not defined\u001b[39m",
      ""
     ]
    }
   ],
   "source": [
    "const2D.mostra_heatmap(collocCoord[:,1:2],real.(T),ELEM)\n",
    "ncont=size(contorno,1)\n",
    "ncollocpoints=size(collocPts,1)\n",
    "ELEM=zeros(Integer,ncollocpoints,2)\n",
    "noini=1\n",
    "for ii=1:ncont\n",
    "  icont=contorno[ii,1]\n",
    "  ncont=contorno[ii,2]\n",
    "  nofim=nnos2[icont+ncont]\n",
    "  indnos=collect(noini:nofim)\n",
    "  ELEM[noini:nofim,1]=indnos\n",
    "  ELEM[noini:nofim,2]=indnos+1\n",
    "  ELEM[nofim,2]=noini\n",
    "  noini=nofim+1\n",
    "end\n",
    "\n",
    "const2D.mostra_heatmap(collocCoord[:,1:2],PONTOS_int[:,2:3],real.(T),real.(phi_pint),collocCoord[:,1:2],ELEM[:,2:3],qx_dom,qy_dom);"
   ]
  },
  {
   "cell_type": "code",
   "execution_count": 9,
   "metadata": {},
   "outputs": [
    {
     "ename": "LoadError",
     "evalue": "\u001b[91mMethodError: no method matching getindex(::nurbs2D.Curve, ::Int64)\u001b[39m",
     "output_type": "error",
     "traceback": [
      "\u001b[91mMethodError: no method matching getindex(::nurbs2D.Curve, ::Int64)\u001b[39m",
      ""
     ]
    }
   ],
   "source": [
    "crv[1].coefs"
   ]
  },
  {
   "cell_type": "code",
   "execution_count": null,
   "metadata": {},
   "outputs": [],
   "source": []
  },
  {
   "cell_type": "code",
   "execution_count": null,
   "metadata": {},
   "outputs": [],
   "source": []
  },
  {
   "cell_type": "code",
   "execution_count": null,
   "metadata": {},
   "outputs": [],
   "source": []
  }
 ],
 "metadata": {
  "kernelspec": {
   "display_name": "Julia 0.6.4",
   "language": "julia",
   "name": "julia-0.6"
  },
  "language_info": {
   "file_extension": ".jl",
   "mimetype": "application/julia",
   "name": "julia",
   "version": "0.6.4"
  }
 },
 "nbformat": 4,
 "nbformat_minor": 2
}
