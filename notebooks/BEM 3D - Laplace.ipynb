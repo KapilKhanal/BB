{
 "cells": [
  {
   "cell_type": "markdown",
   "metadata": {},
   "source": [
    "## Boundary element for potential problems (2D)"
   ]
  },
  {
   "cell_type": "markdown",
   "metadata": {},
   "source": [
    "### Constant elements"
   ]
  },
  {
   "cell_type": "markdown",
   "metadata": {},
   "source": [
    "The Laplace equation, also known as the potential equation, is an elliptic partial differential equation written as\n",
    "\n",
    "\\begin{equation}\n",
    "    \\nabla^2 T = 0\n",
    "\\end{equation}\n",
    "where $\\nabla^2 = \\partial^2 / \\partial x^2 + \\partial^2 / \\partial y^2 + \\partial^2 / \\partial z^2 $ is the Laplace operator and $T$ is an unknown system state, for heat conductivity is the temperature, for potential flows, its the velocity potential.\n",
    "\n",
    "The problem will be solved using the direct boundary element method. The boundary of the problem's domain will be discretized into triangular constant elements with physical nodes located on its centroid. The temperature and its gradient are considered to be constant throughout the element and are only calculated in the physical nodes. The boundary conditions will be applied using the collocation technique. The boundary integral equation which describes the problem is given by\n",
    "\n",
    "\\begin{equation}\n",
    "\\int_{\\Gamma} T(x') \\frac{\\partial T^{\\ast}}{\\partial n}(x,x') d\\Gamma + c (x') T(x') = \\int_{\\Gamma} \\frac{\\partial T}{\\partial n}(x') T^{\\ast}(x,x') d\\Gamma,\n",
    "\\end{equation}\n",
    "where $T$ and $\\frac{\\partial T}{\\partial n}$ are the temperature and its gradient, $n$ is the unit normal vector on the boundary $\\Gamma$ of the problem's domain $\\Omega$, $( \\Gamma = \\partial \\Omega)$. The superscript in $T^{\\ast}$ denotes the fundamental solution of $T$. The fundamental solution corresponds to a source point in an infinite domain when applied to the Laplace equation, where $x'$ is the source point, $x$ is a field point,\n",
    "\n",
    "\n",
    "\\begin{equation}\n",
    "    \\nabla^2 T^{\\ast} = \\delta(x,x').\n",
    "\\end{equation}"
   ]
  },
  {
   "cell_type": "code",
   "execution_count": null,
   "metadata": {},
   "outputs": [],
   "source": [
    "include(\"../src/const3D_tri/dep.jl\")\n",
    "include(\"../src/const3D_tri/dad4.jl\")"
   ]
  },
  {
   "cell_type": "code",
   "execution_count": null,
   "metadata": {},
   "outputs": [],
   "source": [
    "L = 1 # Length of the cubes side [m]\n",
    "NOS_GEO, ELEM, CCFace, fc, k = dad4(L) # Data input for a cube of side L\n",
    "NOS = mostra_geoTRI(NOS_GEO,ELEM) # Generate the physical nodes for constant elements          \n",
    "nnos = size(NOS,1)  # Number of physical nodes, same as elements when using constant elements\n",
    "CDC = gera_CDC(ELEM,CCFace); # Builds the boundary conditions matrix\n",
    "n_pint = 100\n",
    "PONTOS_int = zeros(n_pint,4)\n",
    "for i = 1:n_pint\n",
    "\tPONTOS_int[i,:] = [i 0 0 (L/n_pint -0.0001)*i-0.00001]\n",
    "end\n",
    "# Gaussian quadrature - generation of points and weights [0,1] for triangular element\n",
    "npg=12; # Number of integration points                                                         \n",
    "qsi,w = Gauss_Legendre(0,1,npg) # Generation of the points and weights                        \n",
    "println(\"Building G and H matrices...\")\n",
    "@time G,H,phi_inc = cal_GeH_POT(NOS,NOS_GEO,ELEM,k,qsi,w,0) #Compute the G and H matrices     \n",
    "println(\"Applying boundary conditions to build A and b for the linear system...\")\n",
    "@time A,b = aplica_cdc(G,H,CDC) #Applies the boundary conditions and returns matrix A and vector b for the linear system                                                                   \n",
    "println(\"Solving the linear system...\")\n",
    "@time x = A\\b # Solves the linear system                                                      \n",
    "println(\"Separating acoustic pressure from flux...\")\n",
    "@time T,q = monta_Teq(CDC,x) # Applies the boundary conditions to return the velocity potential and flux                                                                                 \n",
    "println(\"Solving for domain points.\")\n",
    "T_pint=calc_T_pint_POT(PONTOS_int,NOS_GEO,ELEM,T,q,k,qsi,w,fc);\n",
    "q_pint=calc_q_pint_POT(PONTOS_int,NOS_GEO,ELEM,T,q,k,qsi,w,fc);"
   ]
  },
  {
   "cell_type": "code",
   "execution_count": null,
   "metadata": {},
   "outputs": [],
   "source": [
    "using PyPlot\n",
    "using PyCall\n",
    "plt=PyPlot\n",
    "plt.plot(PONTOS_int[:,4],abs.(T_pint),label=\"BEM\")\n",
    "grid(1)\n",
    "@pyimport matplotlib.colors as col\n",
    "@pyimport matplotlib.cm as cm\n",
    "@pyimport mpl_toolkits.mplot3d as mp\n",
    "@pyimport mpl_toolkits.mplot3d.art3d as ar\n",
    "mostra_resultados2(NOS_GEO,ELEM,abs.(T[:,1]))"
   ]
  },
  {
   "cell_type": "markdown",
   "metadata": {},
   "source": [
    "### Hierarchical matrices\n",
    "\n",
    "The boundary elements will now be organized in a tree structure. The distance between elements is used to create a plane of separation. Elements will be separated into two branches, thus the name tree structure. The first branch is called the root and the branches that are no longer divided are called leafs."
   ]
  },
  {
   "cell_type": "code",
   "execution_count": null,
   "metadata": {},
   "outputs": [],
   "source": [
    "include(\"../src/const3D_tri/H_mat.jl\")\n",
    "include(\"../src/const3D_tri/ACA.jl\")\n",
    "include(\"../src/const3D_tri/interp.jl\")\n",
    "using KrylovMethods"
   ]
  },
  {
   "cell_type": "code",
   "execution_count": null,
   "metadata": {},
   "outputs": [],
   "source": [
    "## H-Matrix - Interpolation using Lagrange polynomial                                         \n",
    "println(\"Building Tree and blocks using H-Matrices.\")\n",
    "@time Tree,block = cluster(NOS[:,2:4],floor(Int,sqrt(length(NOS))),2);"
   ]
  },
  {
   "cell_type": "code",
   "execution_count": null,
   "metadata": {},
   "outputs": [],
   "source": [
    "println(\"Building A and b matrices using H-Matrix with interpolation.\")\n",
    "# Gaussian quadrature - generation of points and weights [0,1] for triangular element\n",
    "npg=12; # Number of integration points                                                         \n",
    "qsi_tri,w_tri = Gauss_Legendre(0,1,npg) # Generation of the points and weights                         \n",
    "qsi,w = Gauss_Legendre(-1,1,npg) # Generation of the points and weights                        \n",
    "@time Ai,bi = interp(Tree,block,[NOS, NOS_GEO, ELEM, k, CDC,qsi,w,qsi_tri,w_tri])\n",
    "xi = gmres(vet->matveccheia(Ai,vet,block,Tree),bi,5,tol=1e-5,maxIter=1000,out=0);"
   ]
  },
  {
   "cell_type": "code",
   "execution_count": null,
   "metadata": {},
   "outputs": [],
   "source": [
    "println(sum(xi[1] - x));\n",
    "Ti,qi = monta_Teq(CDC, xi[1])\n",
    "println(sum(Ti-T));println(sum(qi-q));"
   ]
  },
  {
   "cell_type": "code",
   "execution_count": null,
   "metadata": {},
   "outputs": [],
   "source": []
  },
  {
   "cell_type": "code",
   "execution_count": null,
   "metadata": {},
   "outputs": [],
   "source": []
  },
  {
   "cell_type": "code",
   "execution_count": null,
   "metadata": {},
   "outputs": [],
   "source": []
  },
  {
   "cell_type": "code",
   "execution_count": null,
   "metadata": {},
   "outputs": [],
   "source": []
  },
  {
   "cell_type": "code",
   "execution_count": null,
   "metadata": {},
   "outputs": [],
   "source": []
  },
  {
   "cell_type": "code",
   "execution_count": null,
   "metadata": {},
   "outputs": [],
   "source": []
  },
  {
   "cell_type": "code",
   "execution_count": null,
   "metadata": {},
   "outputs": [],
   "source": []
  }
 ],
 "metadata": {
  "kernelspec": {
   "display_name": "Julia 0.6.4",
   "language": "julia",
   "name": "julia-0.6"
  },
  "language_info": {
   "file_extension": ".jl",
   "mimetype": "application/julia",
   "name": "julia",
   "version": "0.6.4"
  }
 },
 "nbformat": 4,
 "nbformat_minor": 2
}
