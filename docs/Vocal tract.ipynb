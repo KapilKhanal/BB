{
 "cells": [
  {
   "cell_type": "markdown",
   "metadata": {},
   "source": [
    "# Vocal tract modelling"
   ]
  },
  {
   "cell_type": "markdown",
   "metadata": {},
   "source": [
    "In this notebook, the geometry of a vocal tract will be inferred using the boundary element method (BEM) and a genetic algorithm. First, the BEM will be used to build an acoustic model of a vocal tract. "
   ]
  },
  {
   "cell_type": "code",
   "execution_count": 1,
   "metadata": {},
   "outputs": [],
   "source": [
    "include(\"../BEM_base.jl\"); # The BEM algorithms are defined in the BEM_base"
   ]
  },
  {
   "cell_type": "code",
   "execution_count": null,
   "metadata": {},
   "outputs": [
    {
     "name": "stdout",
     "output_type": "stream",
     "text": [
      "Importing mesh...\n"
     ]
    }
   ],
   "source": [
    "# Set the msh file location\n",
    "file = \"../dados/vocal_tract/vocal_tract_A_bothclosed.msh\";\n",
    "# Build the domain points\n",
    "L = 140; # Length of the vocal tract\n",
    "n_pint = 50; # Number of domain points\n",
    "PONTOS_int = zeros(n_pint,4);\n",
    "delta = 1; # distance from both ends \n",
    "step = (L-2*delta)/(n_pint-1);\n",
    "for i = 1:n_pint\n",
    "    PONTOS_int[i,:] = [i 0 0 delta+(i-1)*step];\n",
    "end\n",
    "# Set the boundary conditions for each face. Vowel /A/ model has 30 faces\n",
    "BCFace = ones(30,3);\n",
    "BCFace[:,3] = 0;\n",
    "BCFace[1,:] = [1 0 -1]; # Neumann (pressure = 1) to the Glotis\n",
    "BCFace[30,:] = [30 0 0]; # Neumann (pressure = 0) to the mouth\n",
    "CW = 343*1000; # Speed of sound in mm/s\n",
    "k = 774/CW/2/pi; # Set the wavenumber\n",
    "# Solve the BEM model\n",
    "u,q,uint,qint = BEM_base(file,PONTOS_int,BCFace,k, \"wave\");"
   ]
  },
  {
   "cell_type": "code",
   "execution_count": null,
   "metadata": {},
   "outputs": [],
   "source": [
    "# Graph the results\n",
    "using PyPlot\n",
    "plot(PONTOS_int[:,4],real(uint),label=L\"$\\phi$ BEM\")\n",
    "#plot(PONTOS_int[:,4],real(qint),label=L\"$q$ BEM\")\n",
    "grid(1)\n",
    "legend()"
   ]
  },
  {
   "cell_type": "code",
   "execution_count": null,
   "metadata": {},
   "outputs": [],
   "source": [
    "plot(PONTOS_int[:,4],real(qint),label=L\"$q$ BEM\")\n",
    "grid(1)\n",
    "legend()"
   ]
  },
  {
   "cell_type": "code",
   "execution_count": null,
   "metadata": {},
   "outputs": [],
   "source": []
  },
  {
   "cell_type": "code",
   "execution_count": null,
   "metadata": {},
   "outputs": [],
   "source": []
  }
 ],
 "metadata": {
  "kernelspec": {
   "display_name": "Julia 0.6.0",
   "language": "julia",
   "name": "julia-0.6"
  },
  "language_info": {
   "file_extension": ".jl",
   "mimetype": "application/julia",
   "name": "julia",
   "version": "0.6.0"
  }
 },
 "nbformat": 4,
 "nbformat_minor": 2
}
