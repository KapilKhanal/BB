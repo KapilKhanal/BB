{
 "cells": [
  {
   "cell_type": "markdown",
   "metadata": {},
   "source": [
    "# Vocal tract modelling"
   ]
  },
  {
   "cell_type": "markdown",
   "metadata": {},
   "source": [
    "In this notebook, the geometry of a vocal tract will be inferred using the boundary element method (BEM) and a genetic algorithm. First, the BEM will be used to build an acoustic model of a vocal tract. "
   ]
  },
  {
   "cell_type": "code",
   "execution_count": 1,
   "metadata": {},
   "outputs": [],
   "source": [
    "include(\"../BEM_base.jl\"); # The BEM algorithms are defined in the BEM_base"
   ]
  },
  {
   "cell_type": "code",
   "execution_count": 2,
   "metadata": {
    "scrolled": true
   },
   "outputs": [
    {
     "name": "stdout",
     "output_type": "stream",
     "text": [
      "Importing mesh...\n",
      "  7.890013 seconds (717.68 k allocations: 37.792 MiB, 0.25% gc time)\n",
      "Building G and H matrices...\n",
      " 11.446589 seconds (224.64 M allocations: 10.573 GiB, 17.07% gc time)\n",
      "Applying boundary conditions to build A and b for the linear system...\n",
      "  0.279270 seconds (3.95 k allocations: 24.210 MiB, 0.75% gc time)\n",
      "Solving the linear system...\n",
      "  1.255593 seconds (401.61 k allocations: 30.392 MiB, 0.73% gc time)\n",
      "Separating acoustic pressure from flux...\n",
      "  0.048543 seconds (3.62 k allocations: 222.430 KiB)\n",
      "Solving for domain points.\n",
      "  0.672024 seconds (13.65 M allocations: 658.150 MiB, 16.65% gc time)\n",
      "  1.518122 seconds (31.97 M allocations: 1.196 GiB, 12.89% gc time)\n"
     ]
    }
   ],
   "source": [
    "# Set the msh file location\n",
    "file = \"../dados/vocal_tract/vocal_tract_A_bothclosed.msh\";\n",
    "# Build the domain points\n",
    "L = 140; # Length of the vocal tract\n",
    "n_pint = 50; # Number of domain points\n",
    "PONTOS_int = zeros(n_pint,4);\n",
    "delta = 1; # distance from both ends \n",
    "passo = (L-2*delta)/(n_pint-1);\n",
    "for i = 1:n_pint\n",
    "    PONTOS_int[i,:] = [i 0 0 delta+(i-1)*passo];\n",
    "end\n",
    "# Set the boundary conditions for each face. Vowel /A/ model has 30 faces\n",
    "BCFace = ones(30,3);\n",
    "BCFace[:,3] = 0;\n",
    "BCFace[1,:] = [1 0 -1]; # Neumann (flux = 1) to the Glotis\n",
    "BCFace[30,:] = [30 0 0]; # Dirichlet (pressure = 0) to the mouth\n",
    "CW = 343*1000; # Speed of sound in mm/s\n",
    "k = 774/CW/2/pi; # Set the wavenumber\n",
    "# Solve the BEM model\n",
    "u,q,uint,qint = BEM_base(file,PONTOS_int,BCFace,k, \"wave\");"
   ]
  },
  {
   "cell_type": "code",
   "execution_count": 3,
   "metadata": {},
   "outputs": [
    {
     "ename": "LoadError",
     "evalue": "\u001b[91mUndefVarError: plot not defined\u001b[39m",
     "output_type": "error",
     "traceback": [
      "\u001b[91mUndefVarError: plot not defined\u001b[39m",
      ""
     ]
    }
   ],
   "source": [
    "# Graph the results\n",
    "#plot(PONTOS_int[:,4],real(uint),label=L\"$\\phi$ BEM\")\n",
    "plot(PONTOS_int[:,4],real(uint))\n",
    "#plot(PONTOS_int[:,4],real(qint),label=L\"$q$ BEM\")\n",
    "#grid(1)\n",
    "#legend()"
   ]
  },
  {
   "cell_type": "code",
   "execution_count": 4,
   "metadata": {},
   "outputs": [
    {
     "ename": "LoadError",
     "evalue": "\u001b[91mUndefVarError: plot not defined\u001b[39m",
     "output_type": "error",
     "traceback": [
      "\u001b[91mUndefVarError: plot not defined\u001b[39m",
      ""
     ]
    }
   ],
   "source": [
    "#plot(PONTOS_int[:,4],real(qint),label=L\"$q$ BEM\")\n",
    "plot(PONTOS_int[:,4],real(qint))\n",
    "#grid(1)\n",
    "#legend()"
   ]
  },
  {
   "cell_type": "code",
   "execution_count": 5,
   "metadata": {},
   "outputs": [
    {
     "name": "stdout",
     "output_type": "stream",
     "text": [
      "  1.040323 seconds (313.20 k allocations: 15.526 MiB)\n"
     ]
    },
    {
     "data": {
      "text/plain": [
       "([1.0 -7.5694 0.0 0.0; 2.0 0.0 0.0 0.0; … ; 426.0 7.87848 7.87848 140.0; 427.0 -7.87848 -7.87848 140.0], [1 46 … 222 1; 2 3 … 51 1; … ; 819 208 … 427 30; 820 213 … 426 30], Array{Any}(0,2), Any[15, 15, 15, 15, 15, 15, 15, 15, 15, 15  …  2, 2, 2, 2, 2, 2, 2, 2, 2, 2])"
      ]
     },
     "execution_count": 5,
     "metadata": {},
     "output_type": "execute_result"
    }
   ],
   "source": [
    "@time mshinfo = const3D_tri.lermsh(file,3) #Read the mesh generated "
   ]
  },
  {
   "cell_type": "code",
   "execution_count": 6,
   "metadata": {},
   "outputs": [
    {
     "data": {
      "text/plain": [
       "([1.0 -7.5694 0.0 0.0; 2.0 0.0 0.0 0.0; … ; 426.0 7.87848 7.87848 140.0; 427.0 -7.87848 -7.87848 140.0], [1 46 … 222 1; 2 3 … 51 1; … ; 819 208 … 427 30; 820 213 … 426 30], Array{Any}(0,2), Any[15, 15, 15, 15, 15, 15, 15, 15, 15, 15  …  2, 2, 2, 2, 2, 2, 2, 2, 2, 2])"
      ]
     },
     "execution_count": 6,
     "metadata": {},
     "output_type": "execute_result"
    }
   ],
   "source": [
    "NOS_GEO,ELEM,elemint,CDC = mshinfo"
   ]
  },
  {
   "cell_type": "code",
   "execution_count": 7,
   "metadata": {},
   "outputs": [
    {
     "data": {
      "text/plain": [
       "820×5 Array{Int64,2}:\n",
       "   1   46    1  222   1\n",
       "   2    3  221   51   1\n",
       "   3  220  226  223   1\n",
       "   4  220  225  224   1\n",
       "   5   52  224   53   1\n",
       "   6   47  223   48   1\n",
       "   7   54  225   55   1\n",
       "   8   49  226   50   1\n",
       "   9  221  220  224   1\n",
       "  10  220  223  222   1\n",
       "  11  221  226  220   1\n",
       "  12  220  222  225   1\n",
       "  13   53  231   54   1\n",
       "   ⋮                   \n",
       " 809   45  419  424  30\n",
       " 810   43  418  425  30\n",
       " 811  422  418  427  30\n",
       " 812  420  419  426  30\n",
       " 813  421  425  418  30\n",
       " 814  423  424  419  30\n",
       " 815   45  424  212  30\n",
       " 816   43  425  217  30\n",
       " 817  212  424  423  30\n",
       " 818  217  425  421  30\n",
       " 819  208  209  427  30\n",
       " 820  213  214  426  30"
      ]
     },
     "execution_count": 7,
     "metadata": {},
     "output_type": "execute_result"
    }
   ],
   "source": [
    "ELEM"
   ]
  },
  {
   "cell_type": "code",
   "execution_count": null,
   "metadata": {},
   "outputs": [],
   "source": []
  }
 ],
 "metadata": {
  "kernelspec": {
   "display_name": "Julia 0.6.0",
   "language": "julia",
   "name": "julia-0.6"
  },
  "language_info": {
   "file_extension": ".jl",
   "mimetype": "application/julia",
   "name": "julia",
   "version": "0.6.0"
  }
 },
 "nbformat": 4,
 "nbformat_minor": 2
}
