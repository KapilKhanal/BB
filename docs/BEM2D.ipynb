{
 "cells": [
  {
   "cell_type": "markdown",
   "metadata": {},
   "source": [
    "# Bidimensional boundary element method"
   ]
  },
  {
   "cell_type": "markdown",
   "metadata": {},
   "source": [
    "This examples uses BEM_base to solve the Helmholtz and Laplace equations in bidimensional space using polynomial shape functions and NURBS curves to describe the boundary and interpolate domain variables (velocity potential and its flux for the Helmholtz equation and temperature and its flux for the Laplace equation). The first example which will be solved is acoustic duct problem, which has an analytical solution. If both ends of the acoustic duct are closed, then a Neumann boundary condition ($q = \\bar{q}$) must be applied to every element. Let the boundary condition of the wall in one of the extremities not be null and that extremity will act as a piston. The analytical resonance frequencies for such a duct are given by\n",
    "\\begin{equation}\n",
    "    F_{closed\\ duct}\\ (n,L) = \\frac{\\pi\\ n\\ c}{L}\n",
    "\\end{equation}\n",
    "where $c$ is the wave propagation speed, $n=0,1,2,...$ is the mode number and $L$ is the length of the duct. The frequency is in rad/s, divide it to $2\\ pi$ to obtain the frequency in Hz. The duct which will be studied has length = 100 mm and diameter = 10 mm. The speed of sound is $c = 343$ m/s and only the first non-zero mode will be studied ($n=1$).\n"
   ]
  },
  {
   "cell_type": "code",
   "execution_count": 1,
   "metadata": {},
   "outputs": [
    {
     "name": "stdout",
     "output_type": "stream",
     "text": [
      "Mode n = 1, L = 100 m, F = 1715.0 Hz.\n",
      "Mode n = 2, L = 100 m, F = 3430.0 Hz.\n",
      "Mode n = 3, L = 100 m, F = 5145.0 Hz.\n"
     ]
    }
   ],
   "source": [
    "workspace() #start with a clean workspace\n",
    "c = 343*1000 # Speed of propagation in mm/s\n",
    "F_closed(n,L,c) = pi*n*c/L # Analytical resonance frequency in rad/s\n",
    "for n=1:3\n",
    "    println(\"Mode n = $(n), L = $(L=100) m, F = $(F_closed(n,L,c)/(2*pi)) Hz.\")\n",
    "end"
   ]
  },
  {
   "cell_type": "markdown",
   "metadata": {},
   "source": [
    "To solve this problem using constant bidimensional elements, the geometry must be described to BEM_base. Initially, the module for the constant bidimensional element will be loaded."
   ]
  },
  {
   "cell_type": "code",
   "execution_count": 20,
   "metadata": {},
   "outputs": [
    {
     "name": "stdout",
     "output_type": "stream",
     "text": [
      "Building A and b matrices using the traditional colocation BEM for constant elements.\n"
     ]
    },
    {
     "name": "stderr",
     "output_type": "stream",
     "text": [
      "WARNING: replacing module const2D\n"
     ]
    },
    {
     "name": "stdout",
     "output_type": "stream",
     "text": [
      "  0.151297 seconds (92.97 k allocations: 3.193 MiB)\n",
      "Evaluating values at domain points.\n",
      "  0.137268 seconds (250.38 k allocations: 5.369 MiB)\n"
     ]
    },
    {
     "ename": "LoadError",
     "evalue": "\u001b[91merror compiling solveH: unsupported or misplaced expression \"import\" in function solveH\u001b[39m",
     "output_type": "error",
     "traceback": [
      "\u001b[91merror compiling solveH: unsupported or misplaced expression \"import\" in function solveH\u001b[39m",
      "",
      "Stacktrace:",
      " [1] \u001b[1minclude_string\u001b[22m\u001b[22m\u001b[1m(\u001b[22m\u001b[22m::String, ::String\u001b[1m)\u001b[22m\u001b[22m at \u001b[1m./loading.jl:515\u001b[22m\u001b[22m"
     ]
    }
   ],
   "source": [
    "# First, include the module const2D\n",
    "include(\"../src/const2D/const2D.jl\")\n",
    "using const2D\n",
    "using KrylovMethods\n",
    "\n",
    "## Now, to define a new geometry, first one must declare the points,\n",
    "# segments, boundary conditions, etc...\n",
    "n = 1; # Mode number\n",
    "L = 100; # Length of the duct in mm\n",
    "d = 10; # Diameter of the duct in mm\n",
    "c = 343*1000; # Speed of wave propagation in mm/s\n",
    "k = F_closed(n,L,c)/c; # Resonance wave number\n",
    "points = [1 0 0; 2 L 0; 3 L d; 4 0 d];\n",
    "segments = [1 1 2 0; 2 2 3 0; 3 3 4 0; 4 4 1 0];\n",
    "ne = 4; # Number of element per segment\n",
    "MESH = [1 ne; 2 ne; 3 ne; 4 ne];\n",
    "BCFace = [1 1 0; 2 1 0; 3 1 0; 4 1 1]; # Face 4 will act like a piston\n",
    "fc = [0];\n",
    "# Apply the discretization technique and builds the problems matrices\n",
    "#for the geometrical points, physical nodes, elements' connectivity and\n",
    "#boundary conditions\n",
    "info = const2D.format_dad(points,segments,MESH,BCFace);\n",
    "# Now, the domain points will be created\n",
    "n_pint = 100\n",
    "PONTOS_int = zeros(n_pint,3)\n",
    "for i = 1:n_pint\n",
    "\tPONTOS_int[i,:] = [i ((100-0.1)/n_pint)*i d/2]\n",
    "end\n",
    "u,q,uint,qint = const2D.solve(info,PONTOS_int,fc,BCFace,k);\n",
    "uH,qH,uintH,qintH = const2D.solveH(info,PONTOS_int,fc,BCFace,k);\n"
   ]
  },
  {
   "cell_type": "code",
   "execution_count": 8,
   "metadata": {},
   "outputs": [],
   "source": [
    "# Comparing the results\n",
    "using PyPlot\n",
    "\n",
    "phi_closed(x,n,L,c) = cos.(n*pi*(x./L))\n",
    "figure()\n",
    "plot(PONTOS_int[:,2],phi_closed(PONTOS_int[:,2],n,L,c),label=\"Mode n=$(n), F = $(F_closed(n,L,c)/(2*pi)) Hz\")\n",
    "hold(1)\n",
    "plot(PONTOS_int[:,2],real(uint)./maximum(abs.(uint[:,1])),label=\"BEM\")\n",
    "#plot(PONTOS_int[:,2],real(uint)./maximum(abs.(uint[:,1])),label=\"H-BEM\")\n",
    "\n",
    "legend()\n",
    "xlabel(\"distance [m]\")\n",
    "ylabel(\"normalized velocity potential\")\n",
    "grid(1)\n",
    "hold(0)"
   ]
  },
  {
   "cell_type": "code",
   "execution_count": null,
   "metadata": {},
   "outputs": [],
   "source": []
  }
 ],
 "metadata": {
  "kernelspec": {
   "display_name": "Julia 0.6.0",
   "language": "julia",
   "name": "julia-0.6"
  },
  "language_info": {
   "file_extension": ".jl",
   "mimetype": "application/julia",
   "name": "julia",
   "version": "0.6.0"
  }
 },
 "nbformat": 4,
 "nbformat_minor": 2
}
