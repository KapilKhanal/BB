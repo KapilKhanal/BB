{
 "cells": [
  {
   "cell_type": "markdown",
   "metadata": {},
   "source": [
    "# 2D BEM validation\n",
    "\n",
    "This notebook is dedicated to the validation of the 2D BEM contained in BEM_base using a single test case for internal problems and one for external problems."
   ]
  },
  {
   "cell_type": "markdown",
   "metadata": {},
   "source": [
    "## nurbs2D"
   ]
  },
  {
   "cell_type": "code",
   "execution_count": 1,
   "metadata": {},
   "outputs": [
    {
     "ename": "LoadError",
     "evalue": "\u001b[91mAmosException with id 1: input error.\u001b[39m",
     "output_type": "error",
     "traceback": [
      "\u001b[91mAmosException with id 1: input error.\u001b[39m",
      "",
      "Stacktrace:",
      " [1] \u001b[1m_besselk\u001b[22m\u001b[22m\u001b[1m(\u001b[22m\u001b[22m::Float64, ::Complex{Float64}, ::Int32\u001b[1m)\u001b[22m\u001b[22m at \u001b[1m/home/cafe/.julia/v0.6/SpecialFunctions/src/bessel.jl:239\u001b[22m\u001b[22m",
      " [2] \u001b[1mbesselk\u001b[22m\u001b[22m\u001b[1m(\u001b[22m\u001b[22m::Int64, ::Complex{Float64}\u001b[1m)\u001b[22m\u001b[22m at \u001b[1m/home/cafe/.julia/v0.6/SpecialFunctions/src/bessel.jl:500\u001b[22m\u001b[22m",
      " [3] \u001b[1mintegra_elem\u001b[22m\u001b[22m\u001b[1m(\u001b[22m\u001b[22m::Float64, ::Float64, ::Curve, ::Curve, ::Float64, ::Float64, ::Array{Float64,1}, ::Array{Float64,1}, ::Int64\u001b[1m)\u001b[22m\u001b[22m at \u001b[1m/home/cafe/Dropbox/PhD/Implementação/BEM_base/src/nurbs2D/calcula_iso.jl:71\u001b[22m\u001b[22m",
      " [4] \u001b[1mcalcula_iso\u001b[22m\u001b[22m\u001b[1m(\u001b[22m\u001b[22m::Array{Float64,2}, ::RowVector{Integer,Array{Integer,1}}, ::Array{Curve,1}, ::Array{Curve,1}, ::Array{Float64,2}, ::Int64\u001b[1m)\u001b[22m\u001b[22m at \u001b[1m/home/cafe/Dropbox/PhD/Implementação/BEM_base/src/nurbs2D/calcula_iso.jl:23\u001b[22m\u001b[22m"
     ]
    }
   ],
   "source": [
    "# Boundary element method implementation for the Laplace equation using NURBS bidimensional elements\n",
    "# Author: Álvaro Campos Ferreira - alvaro.campos.ferreira@gmail.com\n",
    "# Necessary Modules: SpecialFunctions.jl\n",
    "using SpecialFunctions\n",
    "using PyPlot\n",
    "\n",
    "include(\"../src/nurbs2D/dep.jl\") # Includes the dependencies\n",
    "include(\"../src/nurbs2D/dad_1.jl\") # Includes the data file containing the geometry and physical boundary conditions of the problem\n",
    "# Characteristics of the problem: Square domain with imposed temperature in two opposite faces and imposed null temperature flux at the other two faces. \n",
    "k=0 \t# wavenumber\n",
    "collocCoord,nnos,crv,dcrv,CDC,E = dad_helm()# Geometric and physical information of the problem\n",
    "\n",
    "#Building the problems matrices\n",
    "H, G = calcula_iso(collocCoord,nnos,crv,dcrv,E,k) # Influence matrices\n",
    "A,b= aplica_CDCiso(G,H,CDC,E);\t# Applying boundary conditions\n",
    "x=A\\b; # Evaluating unknown values\n",
    "Tc,qc=monta_Teqiso(CDC,x); # Separating temperature from flux\n",
    "# Applying NURBS basis functions to the values of temperature and flux\n",
    "T=E*Tc;\n",
    "q=E*qc;\n",
    "\n",
    "# Domain points\n",
    "PONTOS_int = [1 3 3]\n",
    "fc = 0; finc = 0;\n",
    "Hp,Gp,phi_pint = calc_phi_pint_nurbs(PONTOS_int,collocCoord,nnos,crv,dcrv,k,Tc,qc);\n",
    "\n",
    "# Graphics\n",
    "close(\"all\")\n",
    "mostra_geo(crv)\n",
    "plot(collocCoord[:,1],collocCoord[:,2],marker=\"s\",markersize=10,linestyle=\"none\",color=\"blue\",label = \"Physical points (Nodes)\")\n",
    "axis(\"equal\")\n",
    "grid(1)\n",
    "PyPlot.xlabel(\"x\",fontsize=\"12.0\")\n",
    "PyPlot.ylabel(\"y\",fontsize=\"12.0\")\n",
    "title(\"NURBS model\",fontsize=\"16.0\")\n",
    "legend(fontsize=\"14.0\",loc=\"best\")\n",
    "# Plot domain point solution and analytical solution\n",
    "#figure()\n",
    "#plot(PONTOS_int[:,2],real(phi_analytical),label=\"Analytical\")\n",
    "#plot(PONTOS_int[:,2],real(phi_pint),label=\"IGA BEM\")\n",
    "#legend()"
   ]
  },
  {
   "cell_type": "code",
   "execution_count": null,
   "metadata": {},
   "outputs": [],
   "source": []
  }
 ],
 "metadata": {
  "kernelspec": {
   "display_name": "Julia 0.6.0",
   "language": "julia",
   "name": "julia-0.6"
  },
  "language_info": {
   "file_extension": ".jl",
   "mimetype": "application/julia",
   "name": "julia",
   "version": "0.6.0"
  }
 },
 "nbformat": 4,
 "nbformat_minor": 2
}
