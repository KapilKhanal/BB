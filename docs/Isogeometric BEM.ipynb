{
 "cells": [
  {
   "cell_type": "markdown",
   "metadata": {},
   "source": [
    "# Isogeometric BEM"
   ]
  },
  {
   "cell_type": "markdown",
   "metadata": {},
   "source": [
    "Curve representation"
   ]
  },
  {
   "cell_type": "code",
   "execution_count": 2,
   "metadata": {},
   "outputs": [
    {
     "data": {
      "image/png": "[encoded data removed]",
      "text/plain": [
       "PyPlot.Figure(PyObject <matplotlib.figure.Figure object at 0x7fc6462fe780>)"
      ]
     },
     "metadata": {},
     "output_type": "display_data"
    },
    {
     "data": {
      "text/plain": [
       "1-element Array{PyCall.PyObject,1}:\n",
       " PyObject <matplotlib.lines.Line2D object at 0x7fc642a542b0>"
      ]
     },
     "execution_count": 2,
     "metadata": {},
     "output_type": "execute_result"
    }
   ],
   "source": [
    "using PyPlot\n",
    "f(x) = sqrt.(1-x.^2);\n",
    "x = 0:0.01:1;\n",
    "plot(x,f(x),label=\"Explicit\")\n",
    "xx(t) = cos.(t);\n",
    "yy(t) = sin.(t);\n",
    "t = 0:0.01:pi/2;\n",
    "plot(xx(t),yy(t),label=\"Parametric\")"
   ]
  },
  {
   "cell_type": "markdown",
   "metadata": {},
   "source": [
    "In CAD, the preferred representation is the parametric. Many geometric shapes are represented by segment based curves such as Bézier and B-Spline patches. \n",
    "\n",
    "A Bézier curve may be obtained by multiple linear interpolations. This procedure is known as the De Casteljau's algorithm."
   ]
  },
  {
   "cell_type": "code",
   "execution_count": 10,
   "metadata": {},
   "outputs": [
    {
     "name": "stdout",
     "output_type": "stream",
     "text": [
      "3\n"
     ]
    },
    {
     "data": {
      "text/plain": [
       "4×2 Array{Int64,2}:\n",
       " 0  0\n",
       " 0  4\n",
       " 4  4\n",
       " 4  0"
      ]
     },
     "execution_count": 10,
     "metadata": {},
     "output_type": "execute_result"
    }
   ],
   "source": [
    "function decasteljau(b,t)\n",
    "    # First, determine the polynomial degree of the curve.\n",
    "    degree = size(b,1)-1;\n",
    "    c = copy(b);\n",
    "    for j = 1:n\n",
    "        for i = 0:n-j\n",
    "            c[i,j] =  b[i,j-1].*(1-t) + b[i+1,j-1]*t;\n",
    "        end\n",
    "    end\n",
    "    return c[:,1]\n",
    "end\n",
    "\n",
    "b0 = [0 0]\n",
    "b1 = [0 4]\n",
    "b2 = [4 4]\n",
    "b3 = [4 0]\n",
    "b = vcat(b0,b1,b2,b3);\n",
    "t = 0:0.01:1;\n",
    "np = size(p,1);\n",
    "c = zeros(np,2);\n",
    "for i = 1:np\n",
    "    c[i,:] = decasteljau(b,t[i]);\n",
    "end\n",
    "plot()"
   ]
  },
  {
   "cell_type": "code",
   "execution_count": 6,
   "metadata": {},
   "outputs": [
    {
     "data": {
      "text/plain": [
       "Array{Int64,2}"
      ]
     },
     "execution_count": 6,
     "metadata": {},
     "output_type": "execute_result"
    }
   ],
   "source": [
    "typeof(b)\n"
   ]
  },
  {
   "cell_type": "code",
   "execution_count": null,
   "metadata": {},
   "outputs": [],
   "source": []
  }
 ],
 "metadata": {
  "kernelspec": {
   "display_name": "Julia 0.6.0",
   "language": "julia",
   "name": "julia-0.6"
  },
  "language_info": {
   "file_extension": ".jl",
   "mimetype": "application/julia",
   "name": "julia",
   "version": "0.6.0"
  }
 },
 "nbformat": 4,
 "nbformat_minor": 2
}
