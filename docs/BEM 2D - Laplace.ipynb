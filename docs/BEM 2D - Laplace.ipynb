{
 "cells": [
  {
   "cell_type": "markdown",
   "metadata": {},
   "source": [
    "## Boundary element for potential problems (2D)"
   ]
  },
  {
   "cell_type": "markdown",
   "metadata": {},
   "source": [
    "### Constant elements"
   ]
  },
  {
   "cell_type": "markdown",
   "metadata": {},
   "source": [
    "The Laplace equation, also known as the potential equation, is an elliptic partial differential equation written as\n",
    "\n",
    "\\begin{equation}\n",
    "    \\nabla^2 T = 0\n",
    "\\end{equation}\n",
    "where $\\nabla^2 = \\partial^2 / \\partial x^2 + \\partial^2 / \\partial y^2 + \\partial^2 / \\partial z^2 $ is the Laplace operator and $T$ is an unknown system state, for heat conductivity is the temperature, for potential flows, its the velocity potential."
   ]
  },
  {
   "cell_type": "markdown",
   "metadata": {},
   "source": [
    "Consider a square plate of size $L$ \\[m\\] with an uniform heat conductivity $k$ \\[W/m.K\\] subjected at opposite faces to a temperature of 100 K and 0 K. There is no heat transfer to the two other opposing faces ($\\nabla T = 0, $). Since the heat transfer is only going to occur in one direction, it's reasonable to approximate the Laplace equation to its one-dimensional form \n",
    "\n",
    "\\begin{equation}\n",
    "\\frac{\\partial^2 T}{\\partial x^2} = 0.\n",
    "\\end{equation}\n",
    "\n",
    "Integrating one time, one obtains\n",
    "\n",
    "\\begin{equation}\n",
    "\\frac{\\partial T}{\\partial x} + C_1 = 0,\n",
    "\\end{equation}\n",
    "a second integration gives\n",
    "\n",
    "\\begin{equation}\n",
    "T + C_1 x + C_2 = 0.\n",
    "\\end{equation}\n",
    "\n",
    "The boundary condition at $x = L$ is $\\partial T / \\partial x = 100$,\n",
    "\\begin{equation}\n",
    "\\frac{\\partial T}{\\partial x}(x=L) + C_1 = 100 + C_1 = 0\n",
    "\\end{equation}\n",
    "\\begin{equation}\n",
    "C_1 = -100\n",
    "\\end{equation}\n",
    "\n",
    "At $x = 0$,\n",
    "\n",
    "\\begin{equation}\n",
    "T(x=0) = 0\n",
    "\\end{equation}\n",
    "so\n",
    "\n",
    "\\begin{equation}\n",
    "T(x=0) -100 (x=0) + C_2 = 0,\n",
    "\\end{equation}\n",
    "which gives\n",
    "\n",
    "\\begin{equation}\n",
    "C_2 = 0.\n",
    "\\end{equation}\n",
    "\n",
    "The analytical solution is then,\n",
    "\n",
    "\\begin{equation}\n",
    "T(x) = 100x,\\ x \\in [0,L]\n",
    "\\end{equation}\n",
    "for a square of side $L$ and different temperatures in the $y$ direction.\n"
   ]
  },
  {
   "cell_type": "code",
   "execution_count": null,
   "metadata": {},
   "outputs": [],
   "source": [
    "# To solve this problem using the BEM, we must first\n",
    "#make include the constant 2D functions\n",
    "include(\"../src/const2D/dep.jl\")\n",
    "# Now, define the geometry\n",
    "L = 1; # length of the box\n",
    "ne = 10; # number of elements/line segment\n",
    "POINTS = [1 0 0\n",
    "\t  2 L 0\n",
    "\t  3 L L\n",
    "\t  4 0 L];\n",
    "SEGMENTS = [1 1 2 0\n",
    "\t     2 2 3 0\n",
    "\t     3 3 4 0\n",
    "\t     4 4 1 0];\n",
    "MESH = [1 ne\n",
    "\t 2 ne\n",
    "\t 3 ne\n",
    "\t 4 ne];\n",
    "BCSeg = [1 1 0\n",
    "\t 2 0 1\n",
    "\t 3 1 0\n",
    "\t 4 0 0];\n",
    "NPX = 11;\n",
    "NPY = 11;\n",
    "PONTOS_INT=gera_p_in(NPX,NPY,POINTS[:,2,3],SEGMENTS); # generate domain points\n",
    "NOS_GEO,NOS,ELEM,CDC = format_dad(POINTS,SEGMENTS,MESH,BCSeg) # Apply the discretization technique and builds the problems matrices for the geometrical points, physical nodes, elements' connectivity and boundary conditions\n",
    "nnos = size(NOS,1)  # Number of physical nodes, same as elements when using constant elements\n",
    "npg=8; # Number of integration points\n",
    "qsi,w = Gauss_Legendre(-1,1,npg) # Generation of the points and weights\n",
    "G,H=cal_GeH(NOS,NOS_GEO,ELEM,k,fc,qsi,w);\n",
    "x = A\\b # Solves the linear system\n",
    "T,q = monta_phieq(CDC,x) # Applies the boundary conditions to return the velocity potential and flux\n",
    "T_pint = calc_phi_pint(PONTOS_int,NOS_GEO,ELEM,phi,qphi,fc,finc,qsi,w,k) # Evaluates the value at domain points"
   ]
  }
 ],
 "metadata": {
  "kernelspec": {
   "display_name": "Julia 0.6.0",
   "language": "julia",
   "name": "julia-0.6"
  },
  "language_info": {
   "file_extension": ".jl",
   "mimetype": "application/julia",
   "name": "julia",
   "version": "0.6.0"
  }
 },
 "nbformat": 4,
 "nbformat_minor": 2
}
